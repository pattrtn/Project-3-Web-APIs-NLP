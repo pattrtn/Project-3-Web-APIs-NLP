{
 "cells": [
  {
   "cell_type": "markdown",
   "id": "0fbd23d4",
   "metadata": {},
   "source": [
    "<img src=\"http://imgur.com/1ZcRyrc.png\" style=\"float: left; margin: 20px; height: 55px\">\n",
    "\n",
    "# Project 3: Web APIs & NLP"
   ]
  },
  {
   "cell_type": "markdown",
   "id": "adacf34a",
   "metadata": {},
   "source": [
    "### Contents:\n",
    "- [Modeling & Evaluation](#Modeling-&-Evaluation)\n",
    "- [Conclusions and Recommendations](#Conclusions-and-Recommendations)"
   ]
  },
  {
   "cell_type": "markdown",
   "id": "d0eef86d",
   "metadata": {},
   "source": [
    "## Import libraries"
   ]
  },
  {
   "cell_type": "code",
   "execution_count": 1,
   "id": "71c7aa8a",
   "metadata": {},
   "outputs": [],
   "source": [
    "import pandas as pd\n",
    "import numpy as np\n",
    "import matplotlib.pyplot as plt\n",
    "import seaborn as sns\n",
    "\n",
    "import sklearn\n",
    "from sklearn.neighbors import KNeighborsClassifier\n",
    "from sklearn.preprocessing import StandardScaler\n",
    "from sklearn.model_selection import train_test_split, GridSearchCV , cross_val_score\n",
    "from sklearn.pipeline import Pipeline\n",
    "from sklearn.naive_bayes import MultinomialNB\n",
    "from sklearn.linear_model import LogisticRegression\n",
    "from sklearn.metrics import confusion_matrix, ConfusionMatrixDisplay, precision_recall_curve , PrecisionRecallDisplay\n",
    "from sklearn.metrics import accuracy_score,recall_score,precision_score,f1_score, roc_auc_score\n",
    "from sklearn.ensemble import RandomForestClassifier, ExtraTreesClassifier , AdaBoostClassifier\n",
    "from sklearn.svm import LinearSVC, SVC\n",
    "from sklearn.feature_extraction.text import CountVectorizer, TfidfVectorizer\n",
    "from sklearn.tree import DecisionTreeClassifier ,plot_tree\n",
    "\n",
    "import nltk\n",
    "from nltk.tokenize import sent_tokenize, word_tokenize, RegexpTokenizer\n",
    "from nltk.stem import WordNetLemmatizer\n",
    "from nltk.stem.porter import PorterStemmer\n",
    "from nltk.corpus import stopwords\n",
    "from nltk.sentiment.vader import SentimentIntensityAnalyzer\n",
    "from nltk.probability import FreqDist\n",
    "from nltk import bigrams\n",
    "\n",
    "import re\n",
    "import string\n",
    "import pickle\n",
    "import contractions\n",
    "\n"
   ]
  },
  {
   "cell_type": "markdown",
   "id": "743ab5cf",
   "metadata": {},
   "source": [
    "# Modeling & Evaluation"
   ]
  },
  {
   "cell_type": "markdown",
   "id": "40b2985b",
   "metadata": {},
   "source": [
    "- Model 1 : Logistic Regression\n",
    "- Model 2 : Naive Bayes\n",
    "- Model 3 : Random Forests"
   ]
  },
  {
   "cell_type": "markdown",
   "id": "fb8dff7a",
   "metadata": {},
   "source": [
    "### Model Training:\n",
    "\n",
    "- Split the dataset into training and validation sets.\n",
    "- Train the chosen model on the training set.\n",
    "- Fine-tune hyperparameters to improve performance."
   ]
  },
  {
   "cell_type": "code",
   "execution_count": 2,
   "id": "b920fb92",
   "metadata": {},
   "outputs": [],
   "source": [
    "#load picked df\n",
    "df = pickle.load(open('data/df_clean.pkl', 'rb'))\n",
    "stopwords = np.loadtxt('data/stopwords.txt', dtype=str)"
   ]
  },
  {
   "cell_type": "code",
   "execution_count": 3,
   "id": "2d156743",
   "metadata": {},
   "outputs": [
    {
     "data": {
      "text/html": [
       "<div>\n",
       "<style scoped>\n",
       "    .dataframe tbody tr th:only-of-type {\n",
       "        vertical-align: middle;\n",
       "    }\n",
       "\n",
       "    .dataframe tbody tr th {\n",
       "        vertical-align: top;\n",
       "    }\n",
       "\n",
       "    .dataframe thead th {\n",
       "        text-align: right;\n",
       "    }\n",
       "</style>\n",
       "<table border=\"1\" class=\"dataframe\">\n",
       "  <thead>\n",
       "    <tr style=\"text-align: right;\">\n",
       "      <th></th>\n",
       "      <th>vote</th>\n",
       "      <th>title</th>\n",
       "      <th>text</th>\n",
       "      <th>topic</th>\n",
       "      <th>year</th>\n",
       "      <th>month</th>\n",
       "      <th>post_length</th>\n",
       "      <th>word_count</th>\n",
       "      <th>tokenized</th>\n",
       "      <th>lemmatized</th>\n",
       "      <th>stemmed</th>\n",
       "      <th>lem_no_stopwords</th>\n",
       "    </tr>\n",
       "  </thead>\n",
       "  <tbody>\n",
       "    <tr>\n",
       "      <th>0</th>\n",
       "      <td>2</td>\n",
       "      <td>Voice echo galaxy s2</td>\n",
       "      <td>redditors im using my sgs2 for a month now wor...</td>\n",
       "      <td>samsung</td>\n",
       "      <td>2011</td>\n",
       "      <td>7</td>\n",
       "      <td>404</td>\n",
       "      <td>74</td>\n",
       "      <td>redditors im using my sgs2 for a month now wor...</td>\n",
       "      <td>redditors im using my sgs2 for a month now wor...</td>\n",
       "      <td>redditor im use my sgs2 for a month now work g...</td>\n",
       "      <td>redditors using sgs2 month work great voicecal...</td>\n",
       "    </tr>\n",
       "    <tr>\n",
       "      <th>1</th>\n",
       "      <td>5</td>\n",
       "      <td>Got a new Samsung TV do I have to use the Sams...</td>\n",
       "      <td>the tv is the un46d6000 i found generic wirele...</td>\n",
       "      <td>samsung</td>\n",
       "      <td>2011</td>\n",
       "      <td>11</td>\n",
       "      <td>131</td>\n",
       "      <td>27</td>\n",
       "      <td>the tv is the un46d6000 i found generic wirele...</td>\n",
       "      <td>the tv is the un46d6000 i found generic wirele...</td>\n",
       "      <td>the tv is the un46d6000 i found gener wireless...</td>\n",
       "      <td>tv un46d6000 found generic wireless usb adapte...</td>\n",
       "    </tr>\n",
       "    <tr>\n",
       "      <th>2</th>\n",
       "      <td>5</td>\n",
       "      <td>The more I read about the Nexus Prime, the les...</td>\n",
       "      <td>every day a new reason appears to make the pri...</td>\n",
       "      <td>samsung</td>\n",
       "      <td>2011</td>\n",
       "      <td>11</td>\n",
       "      <td>601</td>\n",
       "      <td>111</td>\n",
       "      <td>every day a new reason appears to make the pri...</td>\n",
       "      <td>every day a new reason appears to make the pri...</td>\n",
       "      <td>everi day a new reason appear to make the prim...</td>\n",
       "      <td>every day new reason appears make prime look l...</td>\n",
       "    </tr>\n",
       "    <tr>\n",
       "      <th>3</th>\n",
       "      <td>2</td>\n",
       "      <td>Reddit, please help me choose (options and pre...</td>\n",
       "      <td>i am from india and my budget is about 400 usd...</td>\n",
       "      <td>samsung</td>\n",
       "      <td>2012</td>\n",
       "      <td>1</td>\n",
       "      <td>767</td>\n",
       "      <td>142</td>\n",
       "      <td>i am from india and my budget is about 400 usd...</td>\n",
       "      <td>i am from india and my budget is about 400 usd...</td>\n",
       "      <td>i am from india and my budget is about 400 usd...</td>\n",
       "      <td>india budget 400 usd 20000 indian rupee shorti...</td>\n",
       "    </tr>\n",
       "    <tr>\n",
       "      <th>4</th>\n",
       "      <td>2</td>\n",
       "      <td>Samsung Galaxy R Battery?</td>\n",
       "      <td>this shows a comparison between galaxy s2 and ...</td>\n",
       "      <td>samsung</td>\n",
       "      <td>2012</td>\n",
       "      <td>1</td>\n",
       "      <td>634</td>\n",
       "      <td>133</td>\n",
       "      <td>this shows a comparison between galaxy s2 and ...</td>\n",
       "      <td>this show a comparison between galaxy s2 and g...</td>\n",
       "      <td>thi show a comparison between galaxi s2 and ga...</td>\n",
       "      <td>show comparison galaxy s2 galaxy r battery spe...</td>\n",
       "    </tr>\n",
       "  </tbody>\n",
       "</table>\n",
       "</div>"
      ],
      "text/plain": [
       "   vote                                              title  \\\n",
       "0     2                               Voice echo galaxy s2   \n",
       "1     5  Got a new Samsung TV do I have to use the Sams...   \n",
       "2     5  The more I read about the Nexus Prime, the les...   \n",
       "3     2  Reddit, please help me choose (options and pre...   \n",
       "4     2                          Samsung Galaxy R Battery?   \n",
       "\n",
       "                                                text    topic  year  month  \\\n",
       "0  redditors im using my sgs2 for a month now wor...  samsung  2011      7   \n",
       "1  the tv is the un46d6000 i found generic wirele...  samsung  2011     11   \n",
       "2  every day a new reason appears to make the pri...  samsung  2011     11   \n",
       "3  i am from india and my budget is about 400 usd...  samsung  2012      1   \n",
       "4  this shows a comparison between galaxy s2 and ...  samsung  2012      1   \n",
       "\n",
       "   post_length  word_count                                          tokenized  \\\n",
       "0          404          74  redditors im using my sgs2 for a month now wor...   \n",
       "1          131          27  the tv is the un46d6000 i found generic wirele...   \n",
       "2          601         111  every day a new reason appears to make the pri...   \n",
       "3          767         142  i am from india and my budget is about 400 usd...   \n",
       "4          634         133  this shows a comparison between galaxy s2 and ...   \n",
       "\n",
       "                                          lemmatized  \\\n",
       "0  redditors im using my sgs2 for a month now wor...   \n",
       "1  the tv is the un46d6000 i found generic wirele...   \n",
       "2  every day a new reason appears to make the pri...   \n",
       "3  i am from india and my budget is about 400 usd...   \n",
       "4  this show a comparison between galaxy s2 and g...   \n",
       "\n",
       "                                             stemmed  \\\n",
       "0  redditor im use my sgs2 for a month now work g...   \n",
       "1  the tv is the un46d6000 i found gener wireless...   \n",
       "2  everi day a new reason appear to make the prim...   \n",
       "3  i am from india and my budget is about 400 usd...   \n",
       "4  thi show a comparison between galaxi s2 and ga...   \n",
       "\n",
       "                                    lem_no_stopwords  \n",
       "0  redditors using sgs2 month work great voicecal...  \n",
       "1  tv un46d6000 found generic wireless usb adapte...  \n",
       "2  every day new reason appears make prime look l...  \n",
       "3  india budget 400 usd 20000 indian rupee shorti...  \n",
       "4  show comparison galaxy s2 galaxy r battery spe...  "
      ]
     },
     "execution_count": 3,
     "metadata": {},
     "output_type": "execute_result"
    }
   ],
   "source": [
    "df.head()"
   ]
  },
  {
   "cell_type": "code",
   "execution_count": 4,
   "id": "e61431f3",
   "metadata": {},
   "outputs": [
    {
     "data": {
      "text/html": [
       "<div>\n",
       "<style scoped>\n",
       "    .dataframe tbody tr th:only-of-type {\n",
       "        vertical-align: middle;\n",
       "    }\n",
       "\n",
       "    .dataframe tbody tr th {\n",
       "        vertical-align: top;\n",
       "    }\n",
       "\n",
       "    .dataframe thead th {\n",
       "        text-align: right;\n",
       "    }\n",
       "</style>\n",
       "<table border=\"1\" class=\"dataframe\">\n",
       "  <thead>\n",
       "    <tr style=\"text-align: right;\">\n",
       "      <th></th>\n",
       "      <th>vote</th>\n",
       "      <th>title</th>\n",
       "      <th>text</th>\n",
       "      <th>topic</th>\n",
       "      <th>year</th>\n",
       "      <th>month</th>\n",
       "      <th>post_length</th>\n",
       "      <th>word_count</th>\n",
       "      <th>lem_no_stopwords</th>\n",
       "    </tr>\n",
       "  </thead>\n",
       "  <tbody>\n",
       "    <tr>\n",
       "      <th>0</th>\n",
       "      <td>2</td>\n",
       "      <td>Voice echo galaxy s2</td>\n",
       "      <td>redditors im using my sgs2 for a month now wor...</td>\n",
       "      <td>samsung</td>\n",
       "      <td>2011</td>\n",
       "      <td>7</td>\n",
       "      <td>404</td>\n",
       "      <td>74</td>\n",
       "      <td>redditors using sgs2 month work great voicecal...</td>\n",
       "    </tr>\n",
       "    <tr>\n",
       "      <th>1</th>\n",
       "      <td>5</td>\n",
       "      <td>Got a new Samsung TV do I have to use the Sams...</td>\n",
       "      <td>the tv is the un46d6000 i found generic wirele...</td>\n",
       "      <td>samsung</td>\n",
       "      <td>2011</td>\n",
       "      <td>11</td>\n",
       "      <td>131</td>\n",
       "      <td>27</td>\n",
       "      <td>tv un46d6000 found generic wireless usb adapte...</td>\n",
       "    </tr>\n",
       "    <tr>\n",
       "      <th>2</th>\n",
       "      <td>5</td>\n",
       "      <td>The more I read about the Nexus Prime, the les...</td>\n",
       "      <td>every day a new reason appears to make the pri...</td>\n",
       "      <td>samsung</td>\n",
       "      <td>2011</td>\n",
       "      <td>11</td>\n",
       "      <td>601</td>\n",
       "      <td>111</td>\n",
       "      <td>every day new reason appears make prime look l...</td>\n",
       "    </tr>\n",
       "    <tr>\n",
       "      <th>3</th>\n",
       "      <td>2</td>\n",
       "      <td>Reddit, please help me choose (options and pre...</td>\n",
       "      <td>i am from india and my budget is about 400 usd...</td>\n",
       "      <td>samsung</td>\n",
       "      <td>2012</td>\n",
       "      <td>1</td>\n",
       "      <td>767</td>\n",
       "      <td>142</td>\n",
       "      <td>india budget 400 usd 20000 indian rupee shorti...</td>\n",
       "    </tr>\n",
       "    <tr>\n",
       "      <th>4</th>\n",
       "      <td>2</td>\n",
       "      <td>Samsung Galaxy R Battery?</td>\n",
       "      <td>this shows a comparison between galaxy s2 and ...</td>\n",
       "      <td>samsung</td>\n",
       "      <td>2012</td>\n",
       "      <td>1</td>\n",
       "      <td>634</td>\n",
       "      <td>133</td>\n",
       "      <td>show comparison galaxy s2 galaxy r battery spe...</td>\n",
       "    </tr>\n",
       "    <tr>\n",
       "      <th>...</th>\n",
       "      <td>...</td>\n",
       "      <td>...</td>\n",
       "      <td>...</td>\n",
       "      <td>...</td>\n",
       "      <td>...</td>\n",
       "      <td>...</td>\n",
       "      <td>...</td>\n",
       "      <td>...</td>\n",
       "      <td>...</td>\n",
       "    </tr>\n",
       "    <tr>\n",
       "      <th>21854</th>\n",
       "      <td>3</td>\n",
       "      <td>Can the Mid-2007 Macbook output 5.1 sound?</td>\n",
       "      <td>i keep finding conflicting posts with google a...</td>\n",
       "      <td>apple</td>\n",
       "      <td>2010</td>\n",
       "      <td>11</td>\n",
       "      <td>204</td>\n",
       "      <td>41</td>\n",
       "      <td>keep finding conflicting post google really wa...</td>\n",
       "    </tr>\n",
       "    <tr>\n",
       "      <th>21855</th>\n",
       "      <td>1</td>\n",
       "      <td>Previous generation iMac on clearance... I had...</td>\n",
       "      <td>three years ago i go my macbook pro top of the...</td>\n",
       "      <td>apple</td>\n",
       "      <td>2010</td>\n",
       "      <td>11</td>\n",
       "      <td>208</td>\n",
       "      <td>28</td>\n",
       "      <td>three year ago go macbook pro top line previou...</td>\n",
       "    </tr>\n",
       "    <tr>\n",
       "      <th>21856</th>\n",
       "      <td>3</td>\n",
       "      <td>What is a good and free mind-mapping applicati...</td>\n",
       "      <td>i have to write an essay and mindmaps help</td>\n",
       "      <td>apple</td>\n",
       "      <td>2010</td>\n",
       "      <td>12</td>\n",
       "      <td>42</td>\n",
       "      <td>9</td>\n",
       "      <td>write essay mindmaps help</td>\n",
       "    </tr>\n",
       "    <tr>\n",
       "      <th>21857</th>\n",
       "      <td>8</td>\n",
       "      <td>Bi-monthly \"what apps do you use\" ipad Posting</td>\n",
       "      <td>news washington post nyt wsj slate the economi...</td>\n",
       "      <td>apple</td>\n",
       "      <td>2010</td>\n",
       "      <td>12</td>\n",
       "      <td>241</td>\n",
       "      <td>39</td>\n",
       "      <td>news washington post nyt wsj slate economist g...</td>\n",
       "    </tr>\n",
       "    <tr>\n",
       "      <th>21858</th>\n",
       "      <td>4</td>\n",
       "      <td>I love AppleCare. (Update to SuperDrive issue ...</td>\n",
       "      <td>here is a link to the original post i got my m...</td>\n",
       "      <td>apple</td>\n",
       "      <td>2010</td>\n",
       "      <td>12</td>\n",
       "      <td>701</td>\n",
       "      <td>129</td>\n",
       "      <td>link original post got macbook pro back applec...</td>\n",
       "    </tr>\n",
       "  </tbody>\n",
       "</table>\n",
       "<p>21859 rows × 9 columns</p>\n",
       "</div>"
      ],
      "text/plain": [
       "       vote                                              title  \\\n",
       "0         2                               Voice echo galaxy s2   \n",
       "1         5  Got a new Samsung TV do I have to use the Sams...   \n",
       "2         5  The more I read about the Nexus Prime, the les...   \n",
       "3         2  Reddit, please help me choose (options and pre...   \n",
       "4         2                          Samsung Galaxy R Battery?   \n",
       "...     ...                                                ...   \n",
       "21854     3         Can the Mid-2007 Macbook output 5.1 sound?   \n",
       "21855     1  Previous generation iMac on clearance... I had...   \n",
       "21856     3  What is a good and free mind-mapping applicati...   \n",
       "21857     8     Bi-monthly \"what apps do you use\" ipad Posting   \n",
       "21858     4  I love AppleCare. (Update to SuperDrive issue ...   \n",
       "\n",
       "                                                    text    topic  year  \\\n",
       "0      redditors im using my sgs2 for a month now wor...  samsung  2011   \n",
       "1      the tv is the un46d6000 i found generic wirele...  samsung  2011   \n",
       "2      every day a new reason appears to make the pri...  samsung  2011   \n",
       "3      i am from india and my budget is about 400 usd...  samsung  2012   \n",
       "4      this shows a comparison between galaxy s2 and ...  samsung  2012   \n",
       "...                                                  ...      ...   ...   \n",
       "21854  i keep finding conflicting posts with google a...    apple  2010   \n",
       "21855  three years ago i go my macbook pro top of the...    apple  2010   \n",
       "21856         i have to write an essay and mindmaps help    apple  2010   \n",
       "21857  news washington post nyt wsj slate the economi...    apple  2010   \n",
       "21858  here is a link to the original post i got my m...    apple  2010   \n",
       "\n",
       "       month  post_length  word_count  \\\n",
       "0          7          404          74   \n",
       "1         11          131          27   \n",
       "2         11          601         111   \n",
       "3          1          767         142   \n",
       "4          1          634         133   \n",
       "...      ...          ...         ...   \n",
       "21854     11          204          41   \n",
       "21855     11          208          28   \n",
       "21856     12           42           9   \n",
       "21857     12          241          39   \n",
       "21858     12          701         129   \n",
       "\n",
       "                                        lem_no_stopwords  \n",
       "0      redditors using sgs2 month work great voicecal...  \n",
       "1      tv un46d6000 found generic wireless usb adapte...  \n",
       "2      every day new reason appears make prime look l...  \n",
       "3      india budget 400 usd 20000 indian rupee shorti...  \n",
       "4      show comparison galaxy s2 galaxy r battery spe...  \n",
       "...                                                  ...  \n",
       "21854  keep finding conflicting post google really wa...  \n",
       "21855  three year ago go macbook pro top line previou...  \n",
       "21856                          write essay mindmaps help  \n",
       "21857  news washington post nyt wsj slate economist g...  \n",
       "21858  link original post got macbook pro back applec...  \n",
       "\n",
       "[21859 rows x 9 columns]"
      ]
     },
     "execution_count": 4,
     "metadata": {},
     "output_type": "execute_result"
    }
   ],
   "source": [
    "# Drop columns\n",
    "df.drop(columns=['tokenized' , 'lemmatized' , 'stemmed'])"
   ]
  },
  {
   "cell_type": "code",
   "execution_count": 5,
   "id": "5e9fd258",
   "metadata": {},
   "outputs": [],
   "source": [
    "# Duplicate data for use in model\n",
    "df_model = df.copy()"
   ]
  },
  {
   "cell_type": "code",
   "execution_count": 6,
   "id": "1d402f41",
   "metadata": {},
   "outputs": [],
   "source": [
    "#Engineer a feature to turn topic into a 1/0 column, where 1 indicates apple.\n",
    "df_model['class'] = df_model['topic'].map({'apple': 1 , 'samsung' : 0})"
   ]
  },
  {
   "cell_type": "code",
   "execution_count": 7,
   "id": "db80f361",
   "metadata": {},
   "outputs": [],
   "source": [
    "X = df_model['lem_no_stopwords']\n",
    "y = df_model['class']"
   ]
  },
  {
   "cell_type": "code",
   "execution_count": 8,
   "id": "48e5c5dc",
   "metadata": {},
   "outputs": [
    {
     "data": {
      "text/plain": [
       "1    0.522394\n",
       "0    0.477606\n",
       "Name: class, dtype: float64"
      ]
     },
     "execution_count": 8,
     "metadata": {},
     "output_type": "execute_result"
    }
   ],
   "source": [
    "# Propotion of topic in data sets\n",
    "y.value_counts(normalize = True)"
   ]
  },
  {
   "cell_type": "code",
   "execution_count": 9,
   "id": "11266f86",
   "metadata": {},
   "outputs": [],
   "source": [
    "# Split the data into the training and testing sets.\n",
    "X_train, X_test, y_train, y_test = train_test_split(X,\n",
    "                                                    y,\n",
    "                                                    test_size=0.3,\n",
    "                                                    stratify=y,\n",
    "                                                    random_state=42)"
   ]
  },
  {
   "cell_type": "code",
   "execution_count": 10,
   "id": "35c22314",
   "metadata": {},
   "outputs": [
    {
     "data": {
      "text/plain": [
       "1    0.522384\n",
       "0    0.477616\n",
       "Name: class, dtype: float64"
      ]
     },
     "execution_count": 10,
     "metadata": {},
     "output_type": "execute_result"
    }
   ],
   "source": [
    "# Propotion of topic in the train data sets\n",
    "y_train.value_counts(normalize = True)"
   ]
  },
  {
   "cell_type": "code",
   "execution_count": 11,
   "id": "3a7e5fcf",
   "metadata": {},
   "outputs": [
    {
     "data": {
      "text/plain": [
       "1    0.522415\n",
       "0    0.477585\n",
       "Name: class, dtype: float64"
      ]
     },
     "execution_count": 11,
     "metadata": {},
     "output_type": "execute_result"
    }
   ],
   "source": [
    "# Propotion of topic in the test data sets\n",
    "y_test.value_counts(normalize = True)"
   ]
  },
  {
   "cell_type": "markdown",
   "id": "11d38aaa",
   "metadata": {},
   "source": [
    "### Model 1 : Logistic Regression"
   ]
  },
  {
   "cell_type": "code",
   "execution_count": 12,
   "id": "bca7dcbe",
   "metadata": {},
   "outputs": [],
   "source": [
    "# Create a tokenize object\n",
    "def tokenize(text):\n",
    "    tokens = nltk.word_tokenize(text)\n",
    "    return tokens\n"
   ]
  },
  {
   "cell_type": "code",
   "execution_count": 13,
   "id": "5c1c454a",
   "metadata": {},
   "outputs": [],
   "source": [
    "pipe_lr = Pipeline([\n",
    "    ('cvec', CountVectorizer(tokenizer=tokenize, stop_words=list(stopwords), token_pattern=None)),\n",
    "    ('lr', LogisticRegression(solver='liblinear'))\n",
    "])"
   ]
  },
  {
   "cell_type": "code",
   "execution_count": 14,
   "id": "d4369c47",
   "metadata": {},
   "outputs": [
    {
     "data": {
      "text/html": [
       "<style>#sk-container-id-1 {color: black;}#sk-container-id-1 pre{padding: 0;}#sk-container-id-1 div.sk-toggleable {background-color: white;}#sk-container-id-1 label.sk-toggleable__label {cursor: pointer;display: block;width: 100%;margin-bottom: 0;padding: 0.3em;box-sizing: border-box;text-align: center;}#sk-container-id-1 label.sk-toggleable__label-arrow:before {content: \"▸\";float: left;margin-right: 0.25em;color: #696969;}#sk-container-id-1 label.sk-toggleable__label-arrow:hover:before {color: black;}#sk-container-id-1 div.sk-estimator:hover label.sk-toggleable__label-arrow:before {color: black;}#sk-container-id-1 div.sk-toggleable__content {max-height: 0;max-width: 0;overflow: hidden;text-align: left;background-color: #f0f8ff;}#sk-container-id-1 div.sk-toggleable__content pre {margin: 0.2em;color: black;border-radius: 0.25em;background-color: #f0f8ff;}#sk-container-id-1 input.sk-toggleable__control:checked~div.sk-toggleable__content {max-height: 200px;max-width: 100%;overflow: auto;}#sk-container-id-1 input.sk-toggleable__control:checked~label.sk-toggleable__label-arrow:before {content: \"▾\";}#sk-container-id-1 div.sk-estimator input.sk-toggleable__control:checked~label.sk-toggleable__label {background-color: #d4ebff;}#sk-container-id-1 div.sk-label input.sk-toggleable__control:checked~label.sk-toggleable__label {background-color: #d4ebff;}#sk-container-id-1 input.sk-hidden--visually {border: 0;clip: rect(1px 1px 1px 1px);clip: rect(1px, 1px, 1px, 1px);height: 1px;margin: -1px;overflow: hidden;padding: 0;position: absolute;width: 1px;}#sk-container-id-1 div.sk-estimator {font-family: monospace;background-color: #f0f8ff;border: 1px dotted black;border-radius: 0.25em;box-sizing: border-box;margin-bottom: 0.5em;}#sk-container-id-1 div.sk-estimator:hover {background-color: #d4ebff;}#sk-container-id-1 div.sk-parallel-item::after {content: \"\";width: 100%;border-bottom: 1px solid gray;flex-grow: 1;}#sk-container-id-1 div.sk-label:hover label.sk-toggleable__label {background-color: #d4ebff;}#sk-container-id-1 div.sk-serial::before {content: \"\";position: absolute;border-left: 1px solid gray;box-sizing: border-box;top: 0;bottom: 0;left: 50%;z-index: 0;}#sk-container-id-1 div.sk-serial {display: flex;flex-direction: column;align-items: center;background-color: white;padding-right: 0.2em;padding-left: 0.2em;position: relative;}#sk-container-id-1 div.sk-item {position: relative;z-index: 1;}#sk-container-id-1 div.sk-parallel {display: flex;align-items: stretch;justify-content: center;background-color: white;position: relative;}#sk-container-id-1 div.sk-item::before, #sk-container-id-1 div.sk-parallel-item::before {content: \"\";position: absolute;border-left: 1px solid gray;box-sizing: border-box;top: 0;bottom: 0;left: 50%;z-index: -1;}#sk-container-id-1 div.sk-parallel-item {display: flex;flex-direction: column;z-index: 1;position: relative;background-color: white;}#sk-container-id-1 div.sk-parallel-item:first-child::after {align-self: flex-end;width: 50%;}#sk-container-id-1 div.sk-parallel-item:last-child::after {align-self: flex-start;width: 50%;}#sk-container-id-1 div.sk-parallel-item:only-child::after {width: 0;}#sk-container-id-1 div.sk-dashed-wrapped {border: 1px dashed gray;margin: 0 0.4em 0.5em 0.4em;box-sizing: border-box;padding-bottom: 0.4em;background-color: white;}#sk-container-id-1 div.sk-label label {font-family: monospace;font-weight: bold;display: inline-block;line-height: 1.2em;}#sk-container-id-1 div.sk-label-container {text-align: center;}#sk-container-id-1 div.sk-container {/* jupyter's `normalize.less` sets `[hidden] { display: none; }` but bootstrap.min.css set `[hidden] { display: none !important; }` so we also need the `!important` here to be able to override the default hidden behavior on the sphinx rendered scikit-learn.org. See: https://github.com/scikit-learn/scikit-learn/issues/21755 */display: inline-block !important;position: relative;}#sk-container-id-1 div.sk-text-repr-fallback {display: none;}</style><div id=\"sk-container-id-1\" class=\"sk-top-container\"><div class=\"sk-text-repr-fallback\"><pre>Pipeline(steps=[(&#x27;cvec&#x27;,\n",
       "                 CountVectorizer(stop_words=[&#x27;i&#x27;, &#x27;me&#x27;, &#x27;my&#x27;, &#x27;myself&#x27;, &#x27;we&#x27;,\n",
       "                                             &#x27;our&#x27;, &#x27;ours&#x27;, &#x27;ourselves&#x27;, &#x27;you&#x27;,\n",
       "                                             &quot;you&#x27;re&quot;, &quot;you&#x27;ve&quot;, &quot;you&#x27;ll&quot;,\n",
       "                                             &quot;you&#x27;d&quot;, &#x27;your&#x27;, &#x27;yours&#x27;,\n",
       "                                             &#x27;yourself&#x27;, &#x27;yourselves&#x27;, &#x27;he&#x27;,\n",
       "                                             &#x27;him&#x27;, &#x27;his&#x27;, &#x27;himself&#x27;, &#x27;she&#x27;,\n",
       "                                             &quot;she&#x27;s&quot;, &#x27;her&#x27;, &#x27;hers&#x27;, &#x27;herself&#x27;,\n",
       "                                             &#x27;it&#x27;, &quot;it&#x27;s&quot;, &#x27;its&#x27;, &#x27;itself&#x27;, ...],\n",
       "                                 token_pattern=None,\n",
       "                                 tokenizer=&lt;function tokenize at 0x0000017B45B36DE0&gt;)),\n",
       "                (&#x27;lr&#x27;, LogisticRegression(solver=&#x27;liblinear&#x27;))])</pre><b>In a Jupyter environment, please rerun this cell to show the HTML representation or trust the notebook. <br />On GitHub, the HTML representation is unable to render, please try loading this page with nbviewer.org.</b></div><div class=\"sk-container\" hidden><div class=\"sk-item sk-dashed-wrapped\"><div class=\"sk-label-container\"><div class=\"sk-label sk-toggleable\"><input class=\"sk-toggleable__control sk-hidden--visually\" id=\"sk-estimator-id-1\" type=\"checkbox\" ><label for=\"sk-estimator-id-1\" class=\"sk-toggleable__label sk-toggleable__label-arrow\">Pipeline</label><div class=\"sk-toggleable__content\"><pre>Pipeline(steps=[(&#x27;cvec&#x27;,\n",
       "                 CountVectorizer(stop_words=[&#x27;i&#x27;, &#x27;me&#x27;, &#x27;my&#x27;, &#x27;myself&#x27;, &#x27;we&#x27;,\n",
       "                                             &#x27;our&#x27;, &#x27;ours&#x27;, &#x27;ourselves&#x27;, &#x27;you&#x27;,\n",
       "                                             &quot;you&#x27;re&quot;, &quot;you&#x27;ve&quot;, &quot;you&#x27;ll&quot;,\n",
       "                                             &quot;you&#x27;d&quot;, &#x27;your&#x27;, &#x27;yours&#x27;,\n",
       "                                             &#x27;yourself&#x27;, &#x27;yourselves&#x27;, &#x27;he&#x27;,\n",
       "                                             &#x27;him&#x27;, &#x27;his&#x27;, &#x27;himself&#x27;, &#x27;she&#x27;,\n",
       "                                             &quot;she&#x27;s&quot;, &#x27;her&#x27;, &#x27;hers&#x27;, &#x27;herself&#x27;,\n",
       "                                             &#x27;it&#x27;, &quot;it&#x27;s&quot;, &#x27;its&#x27;, &#x27;itself&#x27;, ...],\n",
       "                                 token_pattern=None,\n",
       "                                 tokenizer=&lt;function tokenize at 0x0000017B45B36DE0&gt;)),\n",
       "                (&#x27;lr&#x27;, LogisticRegression(solver=&#x27;liblinear&#x27;))])</pre></div></div></div><div class=\"sk-serial\"><div class=\"sk-item\"><div class=\"sk-estimator sk-toggleable\"><input class=\"sk-toggleable__control sk-hidden--visually\" id=\"sk-estimator-id-2\" type=\"checkbox\" ><label for=\"sk-estimator-id-2\" class=\"sk-toggleable__label sk-toggleable__label-arrow\">CountVectorizer</label><div class=\"sk-toggleable__content\"><pre>CountVectorizer(stop_words=[&#x27;i&#x27;, &#x27;me&#x27;, &#x27;my&#x27;, &#x27;myself&#x27;, &#x27;we&#x27;, &#x27;our&#x27;, &#x27;ours&#x27;,\n",
       "                            &#x27;ourselves&#x27;, &#x27;you&#x27;, &quot;you&#x27;re&quot;, &quot;you&#x27;ve&quot;, &quot;you&#x27;ll&quot;,\n",
       "                            &quot;you&#x27;d&quot;, &#x27;your&#x27;, &#x27;yours&#x27;, &#x27;yourself&#x27;, &#x27;yourselves&#x27;,\n",
       "                            &#x27;he&#x27;, &#x27;him&#x27;, &#x27;his&#x27;, &#x27;himself&#x27;, &#x27;she&#x27;, &quot;she&#x27;s&quot;,\n",
       "                            &#x27;her&#x27;, &#x27;hers&#x27;, &#x27;herself&#x27;, &#x27;it&#x27;, &quot;it&#x27;s&quot;, &#x27;its&#x27;,\n",
       "                            &#x27;itself&#x27;, ...],\n",
       "                token_pattern=None,\n",
       "                tokenizer=&lt;function tokenize at 0x0000017B45B36DE0&gt;)</pre></div></div></div><div class=\"sk-item\"><div class=\"sk-estimator sk-toggleable\"><input class=\"sk-toggleable__control sk-hidden--visually\" id=\"sk-estimator-id-3\" type=\"checkbox\" ><label for=\"sk-estimator-id-3\" class=\"sk-toggleable__label sk-toggleable__label-arrow\">LogisticRegression</label><div class=\"sk-toggleable__content\"><pre>LogisticRegression(solver=&#x27;liblinear&#x27;)</pre></div></div></div></div></div></div></div>"
      ],
      "text/plain": [
       "Pipeline(steps=[('cvec',\n",
       "                 CountVectorizer(stop_words=['i', 'me', 'my', 'myself', 'we',\n",
       "                                             'our', 'ours', 'ourselves', 'you',\n",
       "                                             \"you're\", \"you've\", \"you'll\",\n",
       "                                             \"you'd\", 'your', 'yours',\n",
       "                                             'yourself', 'yourselves', 'he',\n",
       "                                             'him', 'his', 'himself', 'she',\n",
       "                                             \"she's\", 'her', 'hers', 'herself',\n",
       "                                             'it', \"it's\", 'its', 'itself', ...],\n",
       "                                 token_pattern=None,\n",
       "                                 tokenizer=<function tokenize at 0x0000017B45B36DE0>)),\n",
       "                ('lr', LogisticRegression(solver='liblinear'))])"
      ]
     },
     "execution_count": 14,
     "metadata": {},
     "output_type": "execute_result"
    }
   ],
   "source": [
    "#Fit the model\n",
    "pipe_lr.fit(X_train, y_train)"
   ]
  },
  {
   "cell_type": "code",
   "execution_count": 15,
   "id": "c545838a",
   "metadata": {},
   "outputs": [
    {
     "data": {
      "text/plain": [
       "0.9809162799817005"
      ]
     },
     "execution_count": 15,
     "metadata": {},
     "output_type": "execute_result"
    }
   ],
   "source": [
    "#Train score\n",
    "lr_acc_train = pipe_lr.score(X_train, y_train)\n",
    "lr_acc_train"
   ]
  },
  {
   "cell_type": "code",
   "execution_count": 16,
   "id": "dd4f7df5",
   "metadata": {},
   "outputs": [
    {
     "data": {
      "text/plain": [
       "0.8982921622445867"
      ]
     },
     "execution_count": 16,
     "metadata": {},
     "output_type": "execute_result"
    }
   ],
   "source": [
    "#Test score\n",
    "lr_acc_test = pipe_lr.score(X_test, y_test)\n",
    "lr_acc_test"
   ]
  },
  {
   "cell_type": "code",
   "execution_count": 17,
   "id": "5ad34c9a",
   "metadata": {},
   "outputs": [
    {
     "data": {
      "text/plain": [
       "array([0, 0, 0, 1, 1, 1, 1, 1, 0, 1], dtype=int64)"
      ]
     },
     "execution_count": 17,
     "metadata": {},
     "output_type": "execute_result"
    }
   ],
   "source": [
    "# Generate predictions!\n",
    "predictions = pipe_lr.predict(X_test)\n",
    "predictions[:10]"
   ]
  },
  {
   "cell_type": "code",
   "execution_count": 18,
   "id": "daf4d87c",
   "metadata": {},
   "outputs": [
    {
     "data": {
      "text/plain": [
       "array([[2788,  344],\n",
       "       [ 323, 3103]], dtype=int64)"
      ]
     },
     "execution_count": 18,
     "metadata": {},
     "output_type": "execute_result"
    }
   ],
   "source": [
    "confusion_matrix(y_test , predictions)"
   ]
  },
  {
   "cell_type": "code",
   "execution_count": 19,
   "id": "4cb66b08",
   "metadata": {},
   "outputs": [],
   "source": [
    "tn, fp, fn, tp = confusion_matrix(y_test, predictions).ravel()"
   ]
  },
  {
   "cell_type": "code",
   "execution_count": 20,
   "id": "ebc220b0",
   "metadata": {},
   "outputs": [
    {
     "name": "stdout",
     "output_type": "stream",
     "text": [
      "True Negatives: 2788\n",
      "False Positives: 344\n",
      "False Negatives: 323\n",
      "True Positives: 3103\n"
     ]
    }
   ],
   "source": [
    "print(\"True Negatives: %s\" % tn)\n",
    "print(\"False Positives: %s\" % fp)\n",
    "print(\"False Negatives: %s\" % fn)\n",
    "print(\"True Positives: %s\" % tp)"
   ]
  },
  {
   "cell_type": "code",
   "execution_count": 21,
   "id": "182219b9",
   "metadata": {},
   "outputs": [
    {
     "data": {
      "text/plain": [
       "<sklearn.metrics._plot.confusion_matrix.ConfusionMatrixDisplay at 0x17b462afb50>"
      ]
     },
     "execution_count": 21,
     "metadata": {},
     "output_type": "execute_result"
    },
    {
     "data": {
      "image/png": "[encoded data removed]",
      "text/plain": [
       "<Figure size 640x480 with 2 Axes>"
      ]
     },
     "metadata": {},
     "output_type": "display_data"
    }
   ],
   "source": [
    "disp = ConfusionMatrixDisplay(confusion_matrix(y_test , pipe_lr.predict(X_test)) , display_labels = ['samsung' , 'apple'])\n",
    "disp.plot()"
   ]
  },
  {
   "cell_type": "code",
   "execution_count": 22,
   "id": "67708f51",
   "metadata": {},
   "outputs": [
    {
     "data": {
      "text/plain": [
       "0.900203075137801"
      ]
     },
     "execution_count": 22,
     "metadata": {},
     "output_type": "execute_result"
    }
   ],
   "source": [
    "# Calculate precision\n",
    "precision = precision_score(y_test, predictions)\n",
    "precision"
   ]
  },
  {
   "cell_type": "code",
   "execution_count": 23,
   "id": "8dcc7dd4",
   "metadata": {},
   "outputs": [
    {
     "data": {
      "text/plain": [
       "0.9057209573847051"
      ]
     },
     "execution_count": 23,
     "metadata": {},
     "output_type": "execute_result"
    }
   ],
   "source": [
    "# Calculate recall\n",
    "recall = recall_score(y_test, predictions)\n",
    "recall"
   ]
  },
  {
   "cell_type": "code",
   "execution_count": 24,
   "id": "02accae4",
   "metadata": {},
   "outputs": [
    {
     "data": {
      "text/plain": [
       "0.9029535864978903"
      ]
     },
     "execution_count": 24,
     "metadata": {},
     "output_type": "execute_result"
    }
   ],
   "source": [
    "# Calculate F1 score\n",
    "f1 = f1_score(y_test, predictions)\n",
    "f1"
   ]
  },
  {
   "cell_type": "markdown",
   "id": "afd845b3",
   "metadata": {},
   "source": [
    "### Model 2 : Naive Bayes"
   ]
  },
  {
   "cell_type": "code",
   "execution_count": 25,
   "id": "7e9f7b0d",
   "metadata": {},
   "outputs": [
    {
     "data": {
      "text/plain": [
       "<15301x29380 sparse matrix of type '<class 'numpy.int64'>'\n",
       "\twith 528674 stored elements in Compressed Sparse Row format>"
      ]
     },
     "execution_count": 25,
     "metadata": {},
     "output_type": "execute_result"
    }
   ],
   "source": [
    "#Vocabulary size\n",
    "cvec = CountVectorizer()\n",
    "X_train_cvec = cvec.fit_transform(X_train)\n",
    "X_train_cvec"
   ]
  },
  {
   "cell_type": "code",
   "execution_count": 26,
   "id": "2e1ad3a8",
   "metadata": {},
   "outputs": [],
   "source": [
    "# Instantiate our CountVectorizer.\n",
    "cvec = CountVectorizer(max_features=500, stop_words=list(stopwords))"
   ]
  },
  {
   "cell_type": "code",
   "execution_count": 27,
   "id": "8bdc0ba5",
   "metadata": {},
   "outputs": [],
   "source": [
    "# Fit our CountVectorizer on the training data and transform training data.\n",
    "X_train_cvec = cvec.fit_transform(X_train)"
   ]
  },
  {
   "cell_type": "code",
   "execution_count": 28,
   "id": "440e37fd",
   "metadata": {},
   "outputs": [
    {
     "data": {
      "text/plain": [
       "<15301x500 sparse matrix of type '<class 'numpy.int64'>'\n",
       "\twith 299173 stored elements in Compressed Sparse Row format>"
      ]
     },
     "execution_count": 28,
     "metadata": {},
     "output_type": "execute_result"
    }
   ],
   "source": [
    "# Transform our testing data with the already-fit CountVectorizer.\n",
    "X_train_cvec"
   ]
  },
  {
   "cell_type": "code",
   "execution_count": 29,
   "id": "3f480a51",
   "metadata": {},
   "outputs": [],
   "source": [
    "X_test_cvec = cvec.transform(X_test)"
   ]
  },
  {
   "cell_type": "code",
   "execution_count": 30,
   "id": "f9db8ddc",
   "metadata": {},
   "outputs": [
    {
     "data": {
      "text/html": [
       "<div>\n",
       "<style scoped>\n",
       "    .dataframe tbody tr th:only-of-type {\n",
       "        vertical-align: middle;\n",
       "    }\n",
       "\n",
       "    .dataframe tbody tr th {\n",
       "        vertical-align: top;\n",
       "    }\n",
       "\n",
       "    .dataframe thead th {\n",
       "        text-align: right;\n",
       "    }\n",
       "</style>\n",
       "<table border=\"1\" class=\"dataframe\">\n",
       "  <thead>\n",
       "    <tr style=\"text-align: right;\">\n",
       "      <th></th>\n",
       "      <th>10</th>\n",
       "      <th>100</th>\n",
       "      <th>13</th>\n",
       "      <th>15</th>\n",
       "      <th>20</th>\n",
       "      <th>able</th>\n",
       "      <th>access</th>\n",
       "      <th>account</th>\n",
       "      <th>actually</th>\n",
       "      <th>add</th>\n",
       "      <th>...</th>\n",
       "      <th>working</th>\n",
       "      <th>worth</th>\n",
       "      <th>wouldnt</th>\n",
       "      <th>wrong</th>\n",
       "      <th>x200b</th>\n",
       "      <th>year</th>\n",
       "      <th>yesterday</th>\n",
       "      <th>yet</th>\n",
       "      <th>youre</th>\n",
       "      <th>youtube</th>\n",
       "    </tr>\n",
       "  </thead>\n",
       "  <tbody>\n",
       "    <tr>\n",
       "      <th>0</th>\n",
       "      <td>0</td>\n",
       "      <td>0</td>\n",
       "      <td>0</td>\n",
       "      <td>0</td>\n",
       "      <td>0</td>\n",
       "      <td>0</td>\n",
       "      <td>0</td>\n",
       "      <td>0</td>\n",
       "      <td>0</td>\n",
       "      <td>0</td>\n",
       "      <td>...</td>\n",
       "      <td>0</td>\n",
       "      <td>0</td>\n",
       "      <td>0</td>\n",
       "      <td>0</td>\n",
       "      <td>0</td>\n",
       "      <td>0</td>\n",
       "      <td>0</td>\n",
       "      <td>0</td>\n",
       "      <td>0</td>\n",
       "      <td>0</td>\n",
       "    </tr>\n",
       "    <tr>\n",
       "      <th>1</th>\n",
       "      <td>0</td>\n",
       "      <td>0</td>\n",
       "      <td>0</td>\n",
       "      <td>0</td>\n",
       "      <td>0</td>\n",
       "      <td>1</td>\n",
       "      <td>0</td>\n",
       "      <td>0</td>\n",
       "      <td>0</td>\n",
       "      <td>0</td>\n",
       "      <td>...</td>\n",
       "      <td>0</td>\n",
       "      <td>0</td>\n",
       "      <td>0</td>\n",
       "      <td>0</td>\n",
       "      <td>0</td>\n",
       "      <td>0</td>\n",
       "      <td>0</td>\n",
       "      <td>0</td>\n",
       "      <td>0</td>\n",
       "      <td>0</td>\n",
       "    </tr>\n",
       "    <tr>\n",
       "      <th>2</th>\n",
       "      <td>1</td>\n",
       "      <td>0</td>\n",
       "      <td>0</td>\n",
       "      <td>0</td>\n",
       "      <td>0</td>\n",
       "      <td>0</td>\n",
       "      <td>0</td>\n",
       "      <td>0</td>\n",
       "      <td>0</td>\n",
       "      <td>0</td>\n",
       "      <td>...</td>\n",
       "      <td>0</td>\n",
       "      <td>0</td>\n",
       "      <td>0</td>\n",
       "      <td>0</td>\n",
       "      <td>0</td>\n",
       "      <td>0</td>\n",
       "      <td>0</td>\n",
       "      <td>0</td>\n",
       "      <td>0</td>\n",
       "      <td>0</td>\n",
       "    </tr>\n",
       "    <tr>\n",
       "      <th>3</th>\n",
       "      <td>0</td>\n",
       "      <td>0</td>\n",
       "      <td>0</td>\n",
       "      <td>0</td>\n",
       "      <td>0</td>\n",
       "      <td>0</td>\n",
       "      <td>0</td>\n",
       "      <td>0</td>\n",
       "      <td>0</td>\n",
       "      <td>0</td>\n",
       "      <td>...</td>\n",
       "      <td>0</td>\n",
       "      <td>0</td>\n",
       "      <td>0</td>\n",
       "      <td>0</td>\n",
       "      <td>0</td>\n",
       "      <td>0</td>\n",
       "      <td>0</td>\n",
       "      <td>0</td>\n",
       "      <td>0</td>\n",
       "      <td>0</td>\n",
       "    </tr>\n",
       "    <tr>\n",
       "      <th>4</th>\n",
       "      <td>0</td>\n",
       "      <td>0</td>\n",
       "      <td>0</td>\n",
       "      <td>0</td>\n",
       "      <td>0</td>\n",
       "      <td>0</td>\n",
       "      <td>0</td>\n",
       "      <td>0</td>\n",
       "      <td>0</td>\n",
       "      <td>0</td>\n",
       "      <td>...</td>\n",
       "      <td>0</td>\n",
       "      <td>0</td>\n",
       "      <td>0</td>\n",
       "      <td>0</td>\n",
       "      <td>0</td>\n",
       "      <td>0</td>\n",
       "      <td>0</td>\n",
       "      <td>0</td>\n",
       "      <td>0</td>\n",
       "      <td>0</td>\n",
       "    </tr>\n",
       "  </tbody>\n",
       "</table>\n",
       "<p>5 rows × 500 columns</p>\n",
       "</div>"
      ],
      "text/plain": [
       "   10  100  13  15  20  able  access  account  actually  add  ...  working  \\\n",
       "0   0    0   0   0   0     0       0        0         0    0  ...        0   \n",
       "1   0    0   0   0   0     1       0        0         0    0  ...        0   \n",
       "2   1    0   0   0   0     0       0        0         0    0  ...        0   \n",
       "3   0    0   0   0   0     0       0        0         0    0  ...        0   \n",
       "4   0    0   0   0   0     0       0        0         0    0  ...        0   \n",
       "\n",
       "   worth  wouldnt  wrong  x200b  year  yesterday  yet  youre  youtube  \n",
       "0      0        0      0      0     0          0    0      0        0  \n",
       "1      0        0      0      0     0          0    0      0        0  \n",
       "2      0        0      0      0     0          0    0      0        0  \n",
       "3      0        0      0      0     0          0    0      0        0  \n",
       "4      0        0      0      0     0          0    0      0        0  \n",
       "\n",
       "[5 rows x 500 columns]"
      ]
     },
     "execution_count": 30,
     "metadata": {},
     "output_type": "execute_result"
    }
   ],
   "source": [
    "X_test_cvec_df = pd.DataFrame(X_test_cvec.todense() ,columns = cvec.get_feature_names_out() )\n",
    "X_test_cvec_df.head()"
   ]
  },
  {
   "cell_type": "code",
   "execution_count": 31,
   "id": "2decf3dd",
   "metadata": {},
   "outputs": [
    {
     "data": {
      "text/plain": [
       "phone      3314\n",
       "apple      2416\n",
       "like       2134\n",
       "get        2064\n",
       "samsung    1769\n",
       "dtype: int64"
      ]
     },
     "execution_count": 31,
     "metadata": {},
     "output_type": "execute_result"
    }
   ],
   "source": [
    "# Common words in Test dataset\n",
    "X_test_cvec_df.sum().sort_values(ascending=False).head()"
   ]
  },
  {
   "cell_type": "code",
   "execution_count": 32,
   "id": "ad71f16e",
   "metadata": {},
   "outputs": [],
   "source": [
    "# Instantiate model!\n",
    "nb = MultinomialNB(class_prior=[0.5,0.5])"
   ]
  },
  {
   "cell_type": "code",
   "execution_count": 33,
   "id": "a0cc6ecc",
   "metadata": {},
   "outputs": [],
   "source": [
    "# Fit model!\n",
    "model = nb.fit(X_train_cvec , y_train)"
   ]
  },
  {
   "cell_type": "code",
   "execution_count": 34,
   "id": "d851cdeb",
   "metadata": {},
   "outputs": [
    {
     "data": {
      "text/plain": [
       "array([0, 1, 0, 1, 0, 1, 1, 0, 0, 1], dtype=int64)"
      ]
     },
     "execution_count": 34,
     "metadata": {},
     "output_type": "execute_result"
    }
   ],
   "source": [
    "# Generate predictions!\n",
    "predictions = nb.predict(X_test_cvec)\n",
    "predictions[:10]"
   ]
  },
  {
   "cell_type": "code",
   "execution_count": 35,
   "id": "fed2238a",
   "metadata": {},
   "outputs": [
    {
     "data": {
      "text/plain": [
       "0.8700084961767205"
      ]
     },
     "execution_count": 35,
     "metadata": {},
     "output_type": "execute_result"
    }
   ],
   "source": [
    "# Score our model on the training set.\n",
    "nb.score(X_train_cvec , y_train)"
   ]
  },
  {
   "cell_type": "code",
   "execution_count": 36,
   "id": "11ba56af",
   "metadata": {},
   "outputs": [
    {
     "data": {
      "text/plain": [
       "0.8569685879841415"
      ]
     },
     "execution_count": 36,
     "metadata": {},
     "output_type": "execute_result"
    }
   ],
   "source": [
    "# Score our model on the testing set.\n",
    "nb.score(X_test_cvec , y_test)"
   ]
  },
  {
   "cell_type": "code",
   "execution_count": 37,
   "id": "47657b2f",
   "metadata": {},
   "outputs": [
    {
     "data": {
      "text/plain": [
       "array([[2781,  351],\n",
       "       [ 587, 2839]], dtype=int64)"
      ]
     },
     "execution_count": 37,
     "metadata": {},
     "output_type": "execute_result"
    }
   ],
   "source": [
    "# Generate a confusion matrix.\n",
    "confusion_matrix(y_test , nb.predict(X_test_cvec))"
   ]
  },
  {
   "cell_type": "code",
   "execution_count": 38,
   "id": "ff94f82b",
   "metadata": {},
   "outputs": [],
   "source": [
    "tn, fp, fn, tp = confusion_matrix(y_test, predictions).ravel()"
   ]
  },
  {
   "cell_type": "code",
   "execution_count": 39,
   "id": "627b1446",
   "metadata": {},
   "outputs": [
    {
     "name": "stdout",
     "output_type": "stream",
     "text": [
      "True Negatives: 2781\n",
      "False Positives: 351\n",
      "False Negatives: 587\n",
      "True Positives: 2839\n"
     ]
    }
   ],
   "source": [
    "print(\"True Negatives: %s\" % tn)\n",
    "print(\"False Positives: %s\" % fp)\n",
    "print(\"False Negatives: %s\" % fn)\n",
    "print(\"True Positives: %s\" % tp)"
   ]
  },
  {
   "cell_type": "code",
   "execution_count": 40,
   "id": "293fcad8",
   "metadata": {},
   "outputs": [
    {
     "data": {
      "text/plain": [
       "<sklearn.metrics._plot.confusion_matrix.ConfusionMatrixDisplay at 0x17b46776dd0>"
      ]
     },
     "execution_count": 40,
     "metadata": {},
     "output_type": "execute_result"
    },
    {
     "data": {
      "image/png": "[encoded data removed]",
      "text/plain": [
       "<Figure size 640x480 with 2 Axes>"
      ]
     },
     "metadata": {},
     "output_type": "display_data"
    }
   ],
   "source": [
    "disp = ConfusionMatrixDisplay(confusion_matrix(y_test , nb.predict(X_test_cvec)) , display_labels = ['samsung' , 'apple'])\n",
    "disp.plot()"
   ]
  },
  {
   "cell_type": "code",
   "execution_count": 41,
   "id": "c1972ff4",
   "metadata": {},
   "outputs": [
    {
     "data": {
      "text/plain": [
       "0.8899686520376175"
      ]
     },
     "execution_count": 41,
     "metadata": {},
     "output_type": "execute_result"
    }
   ],
   "source": [
    "# Calculate precision\n",
    "precision = precision_score(y_test, predictions)\n",
    "precision"
   ]
  },
  {
   "cell_type": "code",
   "execution_count": 42,
   "id": "405dc069",
   "metadata": {},
   "outputs": [
    {
     "data": {
      "text/plain": [
       "0.8286631640396964"
      ]
     },
     "execution_count": 42,
     "metadata": {},
     "output_type": "execute_result"
    }
   ],
   "source": [
    "# Calculate recall\n",
    "recall = recall_score(y_test, predictions)\n",
    "recall"
   ]
  },
  {
   "cell_type": "code",
   "execution_count": 43,
   "id": "0e533bdb",
   "metadata": {},
   "outputs": [
    {
     "data": {
      "text/plain": [
       "0.8582224909310762"
      ]
     },
     "execution_count": 43,
     "metadata": {},
     "output_type": "execute_result"
    }
   ],
   "source": [
    "# Calculate F1 score\n",
    "f1 = f1_score(y_test, predictions)\n",
    "f1"
   ]
  },
  {
   "cell_type": "markdown",
   "id": "c1c735ae",
   "metadata": {},
   "source": [
    "### Model 3 : Random Forests"
   ]
  },
  {
   "cell_type": "code",
   "execution_count": 44,
   "id": "25834ede",
   "metadata": {},
   "outputs": [],
   "source": [
    "rf = RandomForestClassifier()"
   ]
  },
  {
   "cell_type": "code",
   "execution_count": 45,
   "id": "6328a01e",
   "metadata": {},
   "outputs": [],
   "source": [
    "et = ExtraTreesClassifier()"
   ]
  },
  {
   "cell_type": "code",
   "execution_count": 46,
   "id": "a22583ba",
   "metadata": {},
   "outputs": [],
   "source": [
    "X_train_rf = cvec.fit_transform(X_train)"
   ]
  },
  {
   "cell_type": "code",
   "execution_count": 47,
   "id": "533d7653",
   "metadata": {},
   "outputs": [],
   "source": [
    "X_test_rf = cvec.transform(X_test)"
   ]
  },
  {
   "cell_type": "code",
   "execution_count": 48,
   "id": "7e7efbe3",
   "metadata": {},
   "outputs": [
    {
     "data": {
      "text/html": [
       "<style>#sk-container-id-2 {color: black;}#sk-container-id-2 pre{padding: 0;}#sk-container-id-2 div.sk-toggleable {background-color: white;}#sk-container-id-2 label.sk-toggleable__label {cursor: pointer;display: block;width: 100%;margin-bottom: 0;padding: 0.3em;box-sizing: border-box;text-align: center;}#sk-container-id-2 label.sk-toggleable__label-arrow:before {content: \"▸\";float: left;margin-right: 0.25em;color: #696969;}#sk-container-id-2 label.sk-toggleable__label-arrow:hover:before {color: black;}#sk-container-id-2 div.sk-estimator:hover label.sk-toggleable__label-arrow:before {color: black;}#sk-container-id-2 div.sk-toggleable__content {max-height: 0;max-width: 0;overflow: hidden;text-align: left;background-color: #f0f8ff;}#sk-container-id-2 div.sk-toggleable__content pre {margin: 0.2em;color: black;border-radius: 0.25em;background-color: #f0f8ff;}#sk-container-id-2 input.sk-toggleable__control:checked~div.sk-toggleable__content {max-height: 200px;max-width: 100%;overflow: auto;}#sk-container-id-2 input.sk-toggleable__control:checked~label.sk-toggleable__label-arrow:before {content: \"▾\";}#sk-container-id-2 div.sk-estimator input.sk-toggleable__control:checked~label.sk-toggleable__label {background-color: #d4ebff;}#sk-container-id-2 div.sk-label input.sk-toggleable__control:checked~label.sk-toggleable__label {background-color: #d4ebff;}#sk-container-id-2 input.sk-hidden--visually {border: 0;clip: rect(1px 1px 1px 1px);clip: rect(1px, 1px, 1px, 1px);height: 1px;margin: -1px;overflow: hidden;padding: 0;position: absolute;width: 1px;}#sk-container-id-2 div.sk-estimator {font-family: monospace;background-color: #f0f8ff;border: 1px dotted black;border-radius: 0.25em;box-sizing: border-box;margin-bottom: 0.5em;}#sk-container-id-2 div.sk-estimator:hover {background-color: #d4ebff;}#sk-container-id-2 div.sk-parallel-item::after {content: \"\";width: 100%;border-bottom: 1px solid gray;flex-grow: 1;}#sk-container-id-2 div.sk-label:hover label.sk-toggleable__label {background-color: #d4ebff;}#sk-container-id-2 div.sk-serial::before {content: \"\";position: absolute;border-left: 1px solid gray;box-sizing: border-box;top: 0;bottom: 0;left: 50%;z-index: 0;}#sk-container-id-2 div.sk-serial {display: flex;flex-direction: column;align-items: center;background-color: white;padding-right: 0.2em;padding-left: 0.2em;position: relative;}#sk-container-id-2 div.sk-item {position: relative;z-index: 1;}#sk-container-id-2 div.sk-parallel {display: flex;align-items: stretch;justify-content: center;background-color: white;position: relative;}#sk-container-id-2 div.sk-item::before, #sk-container-id-2 div.sk-parallel-item::before {content: \"\";position: absolute;border-left: 1px solid gray;box-sizing: border-box;top: 0;bottom: 0;left: 50%;z-index: -1;}#sk-container-id-2 div.sk-parallel-item {display: flex;flex-direction: column;z-index: 1;position: relative;background-color: white;}#sk-container-id-2 div.sk-parallel-item:first-child::after {align-self: flex-end;width: 50%;}#sk-container-id-2 div.sk-parallel-item:last-child::after {align-self: flex-start;width: 50%;}#sk-container-id-2 div.sk-parallel-item:only-child::after {width: 0;}#sk-container-id-2 div.sk-dashed-wrapped {border: 1px dashed gray;margin: 0 0.4em 0.5em 0.4em;box-sizing: border-box;padding-bottom: 0.4em;background-color: white;}#sk-container-id-2 div.sk-label label {font-family: monospace;font-weight: bold;display: inline-block;line-height: 1.2em;}#sk-container-id-2 div.sk-label-container {text-align: center;}#sk-container-id-2 div.sk-container {/* jupyter's `normalize.less` sets `[hidden] { display: none; }` but bootstrap.min.css set `[hidden] { display: none !important; }` so we also need the `!important` here to be able to override the default hidden behavior on the sphinx rendered scikit-learn.org. See: https://github.com/scikit-learn/scikit-learn/issues/21755 */display: inline-block !important;position: relative;}#sk-container-id-2 div.sk-text-repr-fallback {display: none;}</style><div id=\"sk-container-id-2\" class=\"sk-top-container\"><div class=\"sk-text-repr-fallback\"><pre>RandomForestClassifier()</pre><b>In a Jupyter environment, please rerun this cell to show the HTML representation or trust the notebook. <br />On GitHub, the HTML representation is unable to render, please try loading this page with nbviewer.org.</b></div><div class=\"sk-container\" hidden><div class=\"sk-item\"><div class=\"sk-estimator sk-toggleable\"><input class=\"sk-toggleable__control sk-hidden--visually\" id=\"sk-estimator-id-4\" type=\"checkbox\" checked><label for=\"sk-estimator-id-4\" class=\"sk-toggleable__label sk-toggleable__label-arrow\">RandomForestClassifier</label><div class=\"sk-toggleable__content\"><pre>RandomForestClassifier()</pre></div></div></div></div></div>"
      ],
      "text/plain": [
       "RandomForestClassifier()"
      ]
     },
     "execution_count": 48,
     "metadata": {},
     "output_type": "execute_result"
    }
   ],
   "source": [
    "rf.fit(X_train_rf, y_train)"
   ]
  },
  {
   "cell_type": "code",
   "execution_count": 49,
   "id": "4920eb18",
   "metadata": {},
   "outputs": [
    {
     "data": {
      "text/plain": [
       "0.994052676295667"
      ]
     },
     "execution_count": 49,
     "metadata": {},
     "output_type": "execute_result"
    }
   ],
   "source": [
    "rf.score(X_train_rf, y_train) #Training Accuracy"
   ]
  },
  {
   "cell_type": "code",
   "execution_count": 50,
   "id": "ecd9cec8",
   "metadata": {},
   "outputs": [
    {
     "data": {
      "text/plain": [
       "0.8891430314120159"
      ]
     },
     "execution_count": 50,
     "metadata": {},
     "output_type": "execute_result"
    }
   ],
   "source": [
    "rf.score(X_test_rf, y_test) # Validation Accuracy"
   ]
  },
  {
   "cell_type": "code",
   "execution_count": 51,
   "id": "696e4a4d",
   "metadata": {},
   "outputs": [
    {
     "data": {
      "text/plain": [
       "0.8875235569562683"
      ]
     },
     "execution_count": 51,
     "metadata": {},
     "output_type": "execute_result"
    }
   ],
   "source": [
    "cross_val_score(rf , X_train_rf , y_train , cv=5).mean() # Cross validation score"
   ]
  },
  {
   "cell_type": "code",
   "execution_count": 52,
   "id": "96fff661",
   "metadata": {},
   "outputs": [
    {
     "data": {
      "text/html": [
       "<style>#sk-container-id-3 {color: black;}#sk-container-id-3 pre{padding: 0;}#sk-container-id-3 div.sk-toggleable {background-color: white;}#sk-container-id-3 label.sk-toggleable__label {cursor: pointer;display: block;width: 100%;margin-bottom: 0;padding: 0.3em;box-sizing: border-box;text-align: center;}#sk-container-id-3 label.sk-toggleable__label-arrow:before {content: \"▸\";float: left;margin-right: 0.25em;color: #696969;}#sk-container-id-3 label.sk-toggleable__label-arrow:hover:before {color: black;}#sk-container-id-3 div.sk-estimator:hover label.sk-toggleable__label-arrow:before {color: black;}#sk-container-id-3 div.sk-toggleable__content {max-height: 0;max-width: 0;overflow: hidden;text-align: left;background-color: #f0f8ff;}#sk-container-id-3 div.sk-toggleable__content pre {margin: 0.2em;color: black;border-radius: 0.25em;background-color: #f0f8ff;}#sk-container-id-3 input.sk-toggleable__control:checked~div.sk-toggleable__content {max-height: 200px;max-width: 100%;overflow: auto;}#sk-container-id-3 input.sk-toggleable__control:checked~label.sk-toggleable__label-arrow:before {content: \"▾\";}#sk-container-id-3 div.sk-estimator input.sk-toggleable__control:checked~label.sk-toggleable__label {background-color: #d4ebff;}#sk-container-id-3 div.sk-label input.sk-toggleable__control:checked~label.sk-toggleable__label {background-color: #d4ebff;}#sk-container-id-3 input.sk-hidden--visually {border: 0;clip: rect(1px 1px 1px 1px);clip: rect(1px, 1px, 1px, 1px);height: 1px;margin: -1px;overflow: hidden;padding: 0;position: absolute;width: 1px;}#sk-container-id-3 div.sk-estimator {font-family: monospace;background-color: #f0f8ff;border: 1px dotted black;border-radius: 0.25em;box-sizing: border-box;margin-bottom: 0.5em;}#sk-container-id-3 div.sk-estimator:hover {background-color: #d4ebff;}#sk-container-id-3 div.sk-parallel-item::after {content: \"\";width: 100%;border-bottom: 1px solid gray;flex-grow: 1;}#sk-container-id-3 div.sk-label:hover label.sk-toggleable__label {background-color: #d4ebff;}#sk-container-id-3 div.sk-serial::before {content: \"\";position: absolute;border-left: 1px solid gray;box-sizing: border-box;top: 0;bottom: 0;left: 50%;z-index: 0;}#sk-container-id-3 div.sk-serial {display: flex;flex-direction: column;align-items: center;background-color: white;padding-right: 0.2em;padding-left: 0.2em;position: relative;}#sk-container-id-3 div.sk-item {position: relative;z-index: 1;}#sk-container-id-3 div.sk-parallel {display: flex;align-items: stretch;justify-content: center;background-color: white;position: relative;}#sk-container-id-3 div.sk-item::before, #sk-container-id-3 div.sk-parallel-item::before {content: \"\";position: absolute;border-left: 1px solid gray;box-sizing: border-box;top: 0;bottom: 0;left: 50%;z-index: -1;}#sk-container-id-3 div.sk-parallel-item {display: flex;flex-direction: column;z-index: 1;position: relative;background-color: white;}#sk-container-id-3 div.sk-parallel-item:first-child::after {align-self: flex-end;width: 50%;}#sk-container-id-3 div.sk-parallel-item:last-child::after {align-self: flex-start;width: 50%;}#sk-container-id-3 div.sk-parallel-item:only-child::after {width: 0;}#sk-container-id-3 div.sk-dashed-wrapped {border: 1px dashed gray;margin: 0 0.4em 0.5em 0.4em;box-sizing: border-box;padding-bottom: 0.4em;background-color: white;}#sk-container-id-3 div.sk-label label {font-family: monospace;font-weight: bold;display: inline-block;line-height: 1.2em;}#sk-container-id-3 div.sk-label-container {text-align: center;}#sk-container-id-3 div.sk-container {/* jupyter's `normalize.less` sets `[hidden] { display: none; }` but bootstrap.min.css set `[hidden] { display: none !important; }` so we also need the `!important` here to be able to override the default hidden behavior on the sphinx rendered scikit-learn.org. See: https://github.com/scikit-learn/scikit-learn/issues/21755 */display: inline-block !important;position: relative;}#sk-container-id-3 div.sk-text-repr-fallback {display: none;}</style><div id=\"sk-container-id-3\" class=\"sk-top-container\"><div class=\"sk-text-repr-fallback\"><pre>ExtraTreesClassifier()</pre><b>In a Jupyter environment, please rerun this cell to show the HTML representation or trust the notebook. <br />On GitHub, the HTML representation is unable to render, please try loading this page with nbviewer.org.</b></div><div class=\"sk-container\" hidden><div class=\"sk-item\"><div class=\"sk-estimator sk-toggleable\"><input class=\"sk-toggleable__control sk-hidden--visually\" id=\"sk-estimator-id-5\" type=\"checkbox\" checked><label for=\"sk-estimator-id-5\" class=\"sk-toggleable__label sk-toggleable__label-arrow\">ExtraTreesClassifier</label><div class=\"sk-toggleable__content\"><pre>ExtraTreesClassifier()</pre></div></div></div></div></div>"
      ],
      "text/plain": [
       "ExtraTreesClassifier()"
      ]
     },
     "execution_count": 52,
     "metadata": {},
     "output_type": "execute_result"
    }
   ],
   "source": [
    "et.fit(X_train_rf , y_train)"
   ]
  },
  {
   "cell_type": "code",
   "execution_count": 53,
   "id": "4941cad6",
   "metadata": {},
   "outputs": [
    {
     "data": {
      "text/plain": [
       "0.994052676295667"
      ]
     },
     "execution_count": 53,
     "metadata": {},
     "output_type": "execute_result"
    }
   ],
   "source": [
    "et.score(X_train_rf, y_train) #Training accuracy on ET model"
   ]
  },
  {
   "cell_type": "code",
   "execution_count": 54,
   "id": "0e792421",
   "metadata": {},
   "outputs": [
    {
     "data": {
      "text/plain": [
       "0.8850399395302061"
      ]
     },
     "execution_count": 54,
     "metadata": {},
     "output_type": "execute_result"
    }
   ],
   "source": [
    "cross_val_score(et , X_train_rf , y_train , cv=5).mean() #Cross validation accuracy on ET model"
   ]
  },
  {
   "cell_type": "code",
   "execution_count": 55,
   "id": "01c572bb",
   "metadata": {},
   "outputs": [],
   "source": [
    "rf_params = {\n",
    "    'n_estimators' : [50,100,150,200] ,\n",
    "    'max_depth' : [None,1,2,3,4,5,6]}"
   ]
  },
  {
   "cell_type": "code",
   "execution_count": 56,
   "id": "bca89081",
   "metadata": {},
   "outputs": [],
   "source": [
    "grid = GridSearchCV(rf , param_grid = rf_params , cv=5)"
   ]
  },
  {
   "cell_type": "code",
   "execution_count": 57,
   "id": "eb2090cd",
   "metadata": {},
   "outputs": [
    {
     "data": {
      "text/html": [
       "<style>#sk-container-id-4 {color: black;}#sk-container-id-4 pre{padding: 0;}#sk-container-id-4 div.sk-toggleable {background-color: white;}#sk-container-id-4 label.sk-toggleable__label {cursor: pointer;display: block;width: 100%;margin-bottom: 0;padding: 0.3em;box-sizing: border-box;text-align: center;}#sk-container-id-4 label.sk-toggleable__label-arrow:before {content: \"▸\";float: left;margin-right: 0.25em;color: #696969;}#sk-container-id-4 label.sk-toggleable__label-arrow:hover:before {color: black;}#sk-container-id-4 div.sk-estimator:hover label.sk-toggleable__label-arrow:before {color: black;}#sk-container-id-4 div.sk-toggleable__content {max-height: 0;max-width: 0;overflow: hidden;text-align: left;background-color: #f0f8ff;}#sk-container-id-4 div.sk-toggleable__content pre {margin: 0.2em;color: black;border-radius: 0.25em;background-color: #f0f8ff;}#sk-container-id-4 input.sk-toggleable__control:checked~div.sk-toggleable__content {max-height: 200px;max-width: 100%;overflow: auto;}#sk-container-id-4 input.sk-toggleable__control:checked~label.sk-toggleable__label-arrow:before {content: \"▾\";}#sk-container-id-4 div.sk-estimator input.sk-toggleable__control:checked~label.sk-toggleable__label {background-color: #d4ebff;}#sk-container-id-4 div.sk-label input.sk-toggleable__control:checked~label.sk-toggleable__label {background-color: #d4ebff;}#sk-container-id-4 input.sk-hidden--visually {border: 0;clip: rect(1px 1px 1px 1px);clip: rect(1px, 1px, 1px, 1px);height: 1px;margin: -1px;overflow: hidden;padding: 0;position: absolute;width: 1px;}#sk-container-id-4 div.sk-estimator {font-family: monospace;background-color: #f0f8ff;border: 1px dotted black;border-radius: 0.25em;box-sizing: border-box;margin-bottom: 0.5em;}#sk-container-id-4 div.sk-estimator:hover {background-color: #d4ebff;}#sk-container-id-4 div.sk-parallel-item::after {content: \"\";width: 100%;border-bottom: 1px solid gray;flex-grow: 1;}#sk-container-id-4 div.sk-label:hover label.sk-toggleable__label {background-color: #d4ebff;}#sk-container-id-4 div.sk-serial::before {content: \"\";position: absolute;border-left: 1px solid gray;box-sizing: border-box;top: 0;bottom: 0;left: 50%;z-index: 0;}#sk-container-id-4 div.sk-serial {display: flex;flex-direction: column;align-items: center;background-color: white;padding-right: 0.2em;padding-left: 0.2em;position: relative;}#sk-container-id-4 div.sk-item {position: relative;z-index: 1;}#sk-container-id-4 div.sk-parallel {display: flex;align-items: stretch;justify-content: center;background-color: white;position: relative;}#sk-container-id-4 div.sk-item::before, #sk-container-id-4 div.sk-parallel-item::before {content: \"\";position: absolute;border-left: 1px solid gray;box-sizing: border-box;top: 0;bottom: 0;left: 50%;z-index: -1;}#sk-container-id-4 div.sk-parallel-item {display: flex;flex-direction: column;z-index: 1;position: relative;background-color: white;}#sk-container-id-4 div.sk-parallel-item:first-child::after {align-self: flex-end;width: 50%;}#sk-container-id-4 div.sk-parallel-item:last-child::after {align-self: flex-start;width: 50%;}#sk-container-id-4 div.sk-parallel-item:only-child::after {width: 0;}#sk-container-id-4 div.sk-dashed-wrapped {border: 1px dashed gray;margin: 0 0.4em 0.5em 0.4em;box-sizing: border-box;padding-bottom: 0.4em;background-color: white;}#sk-container-id-4 div.sk-label label {font-family: monospace;font-weight: bold;display: inline-block;line-height: 1.2em;}#sk-container-id-4 div.sk-label-container {text-align: center;}#sk-container-id-4 div.sk-container {/* jupyter's `normalize.less` sets `[hidden] { display: none; }` but bootstrap.min.css set `[hidden] { display: none !important; }` so we also need the `!important` here to be able to override the default hidden behavior on the sphinx rendered scikit-learn.org. See: https://github.com/scikit-learn/scikit-learn/issues/21755 */display: inline-block !important;position: relative;}#sk-container-id-4 div.sk-text-repr-fallback {display: none;}</style><div id=\"sk-container-id-4\" class=\"sk-top-container\"><div class=\"sk-text-repr-fallback\"><pre>GridSearchCV(cv=5, estimator=RandomForestClassifier(),\n",
       "             param_grid={&#x27;max_depth&#x27;: [None, 1, 2, 3, 4, 5, 6],\n",
       "                         &#x27;n_estimators&#x27;: [50, 100, 150, 200]})</pre><b>In a Jupyter environment, please rerun this cell to show the HTML representation or trust the notebook. <br />On GitHub, the HTML representation is unable to render, please try loading this page with nbviewer.org.</b></div><div class=\"sk-container\" hidden><div class=\"sk-item sk-dashed-wrapped\"><div class=\"sk-label-container\"><div class=\"sk-label sk-toggleable\"><input class=\"sk-toggleable__control sk-hidden--visually\" id=\"sk-estimator-id-6\" type=\"checkbox\" ><label for=\"sk-estimator-id-6\" class=\"sk-toggleable__label sk-toggleable__label-arrow\">GridSearchCV</label><div class=\"sk-toggleable__content\"><pre>GridSearchCV(cv=5, estimator=RandomForestClassifier(),\n",
       "             param_grid={&#x27;max_depth&#x27;: [None, 1, 2, 3, 4, 5, 6],\n",
       "                         &#x27;n_estimators&#x27;: [50, 100, 150, 200]})</pre></div></div></div><div class=\"sk-parallel\"><div class=\"sk-parallel-item\"><div class=\"sk-item\"><div class=\"sk-label-container\"><div class=\"sk-label sk-toggleable\"><input class=\"sk-toggleable__control sk-hidden--visually\" id=\"sk-estimator-id-7\" type=\"checkbox\" ><label for=\"sk-estimator-id-7\" class=\"sk-toggleable__label sk-toggleable__label-arrow\">estimator: RandomForestClassifier</label><div class=\"sk-toggleable__content\"><pre>RandomForestClassifier()</pre></div></div></div><div class=\"sk-serial\"><div class=\"sk-item\"><div class=\"sk-estimator sk-toggleable\"><input class=\"sk-toggleable__control sk-hidden--visually\" id=\"sk-estimator-id-8\" type=\"checkbox\" ><label for=\"sk-estimator-id-8\" class=\"sk-toggleable__label sk-toggleable__label-arrow\">RandomForestClassifier</label><div class=\"sk-toggleable__content\"><pre>RandomForestClassifier()</pre></div></div></div></div></div></div></div></div></div></div>"
      ],
      "text/plain": [
       "GridSearchCV(cv=5, estimator=RandomForestClassifier(),\n",
       "             param_grid={'max_depth': [None, 1, 2, 3, 4, 5, 6],\n",
       "                         'n_estimators': [50, 100, 150, 200]})"
      ]
     },
     "execution_count": 57,
     "metadata": {},
     "output_type": "execute_result"
    }
   ],
   "source": [
    "grid.fit(X_train_rf , y_train)"
   ]
  },
  {
   "cell_type": "code",
   "execution_count": 58,
   "id": "46383d8a",
   "metadata": {},
   "outputs": [
    {
     "data": {
      "text/plain": [
       "0.8881116854887441"
      ]
     },
     "execution_count": 58,
     "metadata": {},
     "output_type": "execute_result"
    }
   ],
   "source": [
    "grid.best_score_ #cross val accuracy"
   ]
  },
  {
   "cell_type": "code",
   "execution_count": 59,
   "id": "daaa4e50",
   "metadata": {},
   "outputs": [
    {
     "data": {
      "text/plain": [
       "{'max_depth': None, 'n_estimators': 200}"
      ]
     },
     "execution_count": 59,
     "metadata": {},
     "output_type": "execute_result"
    }
   ],
   "source": [
    "grid.best_params_"
   ]
  },
  {
   "cell_type": "code",
   "execution_count": 60,
   "id": "a8fb5164",
   "metadata": {},
   "outputs": [
    {
     "data": {
      "text/plain": [
       "0.994052676295667"
      ]
     },
     "execution_count": 60,
     "metadata": {},
     "output_type": "execute_result"
    }
   ],
   "source": [
    "grid.score(X_train_rf , y_train) #Train accuracy"
   ]
  },
  {
   "cell_type": "code",
   "execution_count": 61,
   "id": "c7abc870",
   "metadata": {},
   "outputs": [
    {
     "data": {
      "text/plain": [
       "0.8867032631899969"
      ]
     },
     "execution_count": 61,
     "metadata": {},
     "output_type": "execute_result"
    }
   ],
   "source": [
    "grid.score(X_test_rf , y_test) #Validation accuracy"
   ]
  },
  {
   "cell_type": "code",
   "execution_count": 62,
   "id": "fcc24b2e",
   "metadata": {},
   "outputs": [
    {
     "data": {
      "text/plain": [
       "array([[2781,  351],\n",
       "       [ 587, 2839]], dtype=int64)"
      ]
     },
     "execution_count": 62,
     "metadata": {},
     "output_type": "execute_result"
    }
   ],
   "source": [
    "# Generate a confusion matrix.\n",
    "confusion_matrix(y_test , nb.predict(X_test_rf))"
   ]
  },
  {
   "cell_type": "code",
   "execution_count": 63,
   "id": "1e2e2d64",
   "metadata": {},
   "outputs": [
    {
     "data": {
      "text/plain": [
       "array([0, 1, 0, 1, 0, 1, 1, 0, 0, 1], dtype=int64)"
      ]
     },
     "execution_count": 63,
     "metadata": {},
     "output_type": "execute_result"
    }
   ],
   "source": [
    "# Generate predictions!\n",
    "predictions_rf = grid.predict(X_test_rf)\n",
    "predictions[:10]"
   ]
  },
  {
   "cell_type": "code",
   "execution_count": 64,
   "id": "14d1636b",
   "metadata": {},
   "outputs": [],
   "source": [
    "tn, fp, fn, tp = confusion_matrix(y_test, predictions_rf).ravel()"
   ]
  },
  {
   "cell_type": "code",
   "execution_count": 65,
   "id": "c394e5b5",
   "metadata": {},
   "outputs": [
    {
     "name": "stdout",
     "output_type": "stream",
     "text": [
      "True Negatives: 2769\n",
      "False Positives: 363\n",
      "False Negatives: 380\n",
      "True Positives: 3046\n"
     ]
    }
   ],
   "source": [
    "print(\"True Negatives: %s\" % tn)\n",
    "print(\"False Positives: %s\" % fp)\n",
    "print(\"False Negatives: %s\" % fn)\n",
    "print(\"True Positives: %s\" % tp)"
   ]
  },
  {
   "cell_type": "code",
   "execution_count": 66,
   "id": "6d854f19",
   "metadata": {},
   "outputs": [
    {
     "data": {
      "text/plain": [
       "<sklearn.metrics._plot.confusion_matrix.ConfusionMatrixDisplay at 0x17b46482910>"
      ]
     },
     "execution_count": 66,
     "metadata": {},
     "output_type": "execute_result"
    },
    {
     "data": {
      "image/png": "[encoded data removed]",
      "text/plain": [
       "<Figure size 640x480 with 2 Axes>"
      ]
     },
     "metadata": {},
     "output_type": "display_data"
    }
   ],
   "source": [
    "disp = ConfusionMatrixDisplay(confusion_matrix(y_test , grid.predict(X_test_rf)) , display_labels = ['samsung' , 'apple'])\n",
    "disp.plot()"
   ]
  },
  {
   "cell_type": "code",
   "execution_count": 67,
   "id": "b8b7e300",
   "metadata": {},
   "outputs": [
    {
     "data": {
      "text/plain": [
       "0.8935171604576122"
      ]
     },
     "execution_count": 67,
     "metadata": {},
     "output_type": "execute_result"
    }
   ],
   "source": [
    "# Calculate precision\n",
    "precision = precision_score(y_test, predictions_rf)\n",
    "precision"
   ]
  },
  {
   "cell_type": "code",
   "execution_count": 68,
   "id": "9b6d589a",
   "metadata": {},
   "outputs": [
    {
     "data": {
      "text/plain": [
       "0.8890834792761237"
      ]
     },
     "execution_count": 68,
     "metadata": {},
     "output_type": "execute_result"
    }
   ],
   "source": [
    "# Calculate recall\n",
    "recall = recall_score(y_test, predictions_rf)\n",
    "recall"
   ]
  },
  {
   "cell_type": "code",
   "execution_count": 69,
   "id": "4dbeb033",
   "metadata": {},
   "outputs": [
    {
     "data": {
      "text/plain": [
       "0.8912948061448428"
      ]
     },
     "execution_count": 69,
     "metadata": {},
     "output_type": "execute_result"
    }
   ],
   "source": [
    "# Calculate F1 score\n",
    "f1 = f1_score(y_test, predictions_rf)\n",
    "f1"
   ]
  },
  {
   "cell_type": "markdown",
   "id": "d4530014",
   "metadata": {},
   "source": [
    "## Model Performance Summary"
   ]
  },
  {
   "cell_type": "markdown",
   "id": "920f9fd8",
   "metadata": {},
   "source": [
    "|Model|Vectorizer|Train Accuracy|Test Accuracy|F1 Score|recall|precision|\n",
    "|---|---|---|---|---|---|---|\n",
    "|**Logistic Regression**|**CVEC**|**0.98313**|**0.90134**|**0.90020**|**0.90572**|**0.90295**|\n",
    "|Naive Bayes|CVEC|0.87000|0.85696|0.88996|0.82866|0.85822|\n",
    "|Random Forest|CVEC|0.99405|0.88670|0.89351|0.88908|0.89129|\n"
   ]
  },
  {
   "cell_type": "markdown",
   "id": "64780954",
   "metadata": {},
   "source": [
    "# Conclusions and Recommendations"
   ]
  },
  {
   "cell_type": "markdown",
   "id": "ed8e2074",
   "metadata": {},
   "source": [
    "- Conclusions : EDA can help gain insights of consumer preferences and the development of a natural language processing (NLP) model to automatically classify post into the categories of Samsung and Apple would help identify market trends by sorting all data and show how much interaction with each topic.\n",
    "\n"
   ]
  },
  {
   "cell_type": "markdown",
   "id": "9e18de65",
   "metadata": {},
   "source": [
    "- Recommendations : Exploring more additional features, such as competitor mentions to identify and extract mentions of competitors in the text. Understanding how Samsung and Apple are discussed in comparison to each other and to other competitors can be informative."
   ]
  }
 ],
 "metadata": {
  "kernelspec": {
   "display_name": "Python 3 (ipykernel)",
   "language": "python",
   "name": "python3"
  },
  "language_info": {
   "codemirror_mode": {
    "name": "ipython",
    "version": 3
   },
   "file_extension": ".py",
   "mimetype": "text/x-python",
   "name": "python",
   "nbconvert_exporter": "python",
   "pygments_lexer": "ipython3",
   "version": "3.11.4"
  }
 },
 "nbformat": 4,
 "nbformat_minor": 5
}
